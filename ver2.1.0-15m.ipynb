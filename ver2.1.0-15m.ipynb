{
 "cells": [
  {
   "cell_type": "markdown",
   "metadata": {},
   "source": [
    "# Buy or sell at close"
   ]
  },
  {
   "cell_type": "markdown",
   "metadata": {},
   "source": [
    "# 1. Import data and libraries"
   ]
  },
  {
   "cell_type": "code",
   "execution_count": 1,
   "metadata": {},
   "outputs": [],
   "source": [
    "import pandas as pd\n",
    "import numpy as np\n",
    "import matplotlib.pyplot as plt\n",
    "import datetime as dt\n",
    "import warnings\n",
    "warnings.simplefilter(\"ignore\")\n",
    "import time\n",
    "import openpyxl"
   ]
  },
  {
   "cell_type": "code",
   "execution_count": 2,
   "metadata": {},
   "outputs": [],
   "source": [
    "data = pd.read_csv('Final_BN_2018_15m.csv')\n",
    "data.drop('Unnamed: 0',axis = 1,inplace = True)"
   ]
  },
  {
   "cell_type": "code",
   "execution_count": 3,
   "metadata": {
    "scrolled": false
   },
   "outputs": [
    {
     "data": {
      "text/html": [
       "<div>\n",
       "<style scoped>\n",
       "    .dataframe tbody tr th:only-of-type {\n",
       "        vertical-align: middle;\n",
       "    }\n",
       "\n",
       "    .dataframe tbody tr th {\n",
       "        vertical-align: top;\n",
       "    }\n",
       "\n",
       "    .dataframe thead th {\n",
       "        text-align: right;\n",
       "    }\n",
       "</style>\n",
       "<table border=\"1\" class=\"dataframe\">\n",
       "  <thead>\n",
       "    <tr style=\"text-align: right;\">\n",
       "      <th></th>\n",
       "      <th>DATE_TIME</th>\n",
       "      <th>SCRIP</th>\n",
       "      <th>OPEN</th>\n",
       "      <th>HIGH</th>\n",
       "      <th>LOW</th>\n",
       "      <th>CLOSE</th>\n",
       "    </tr>\n",
       "  </thead>\n",
       "  <tbody>\n",
       "    <tr>\n",
       "      <th>0</th>\n",
       "      <td>2018-01-01 09:15:00</td>\n",
       "      <td>BANKNIFTY</td>\n",
       "      <td>25566.45</td>\n",
       "      <td>25588.00</td>\n",
       "      <td>25496.55</td>\n",
       "      <td>25551.70</td>\n",
       "    </tr>\n",
       "    <tr>\n",
       "      <th>1</th>\n",
       "      <td>2018-01-01 09:30:00</td>\n",
       "      <td>BANKNIFTY</td>\n",
       "      <td>25552.75</td>\n",
       "      <td>25573.95</td>\n",
       "      <td>25538.85</td>\n",
       "      <td>25551.50</td>\n",
       "    </tr>\n",
       "    <tr>\n",
       "      <th>2</th>\n",
       "      <td>2018-01-01 09:45:00</td>\n",
       "      <td>BANKNIFTY</td>\n",
       "      <td>25551.70</td>\n",
       "      <td>25555.30</td>\n",
       "      <td>25537.15</td>\n",
       "      <td>25546.90</td>\n",
       "    </tr>\n",
       "    <tr>\n",
       "      <th>3</th>\n",
       "      <td>2018-01-01 10:00:00</td>\n",
       "      <td>BANKNIFTY</td>\n",
       "      <td>25542.90</td>\n",
       "      <td>25574.25</td>\n",
       "      <td>25537.90</td>\n",
       "      <td>25561.50</td>\n",
       "    </tr>\n",
       "    <tr>\n",
       "      <th>4</th>\n",
       "      <td>2018-01-01 10:15:00</td>\n",
       "      <td>BANKNIFTY</td>\n",
       "      <td>25563.65</td>\n",
       "      <td>25573.25</td>\n",
       "      <td>25556.20</td>\n",
       "      <td>25561.20</td>\n",
       "    </tr>\n",
       "    <tr>\n",
       "      <th>...</th>\n",
       "      <td>...</td>\n",
       "      <td>...</td>\n",
       "      <td>...</td>\n",
       "      <td>...</td>\n",
       "      <td>...</td>\n",
       "      <td>...</td>\n",
       "    </tr>\n",
       "    <tr>\n",
       "      <th>6120</th>\n",
       "      <td>2018-12-31 14:15:00</td>\n",
       "      <td>BANKNIFTY</td>\n",
       "      <td>27168.00</td>\n",
       "      <td>27197.40</td>\n",
       "      <td>27161.20</td>\n",
       "      <td>27175.15</td>\n",
       "    </tr>\n",
       "    <tr>\n",
       "      <th>6121</th>\n",
       "      <td>2018-12-31 14:30:00</td>\n",
       "      <td>BANKNIFTY</td>\n",
       "      <td>27175.10</td>\n",
       "      <td>27196.85</td>\n",
       "      <td>27163.15</td>\n",
       "      <td>27169.30</td>\n",
       "    </tr>\n",
       "    <tr>\n",
       "      <th>6122</th>\n",
       "      <td>2018-12-31 14:45:00</td>\n",
       "      <td>BANKNIFTY</td>\n",
       "      <td>27167.45</td>\n",
       "      <td>27186.70</td>\n",
       "      <td>27159.85</td>\n",
       "      <td>27172.30</td>\n",
       "    </tr>\n",
       "    <tr>\n",
       "      <th>6123</th>\n",
       "      <td>2018-12-31 15:00:00</td>\n",
       "      <td>BANKNIFTY</td>\n",
       "      <td>27172.50</td>\n",
       "      <td>27179.90</td>\n",
       "      <td>27141.60</td>\n",
       "      <td>27159.05</td>\n",
       "    </tr>\n",
       "    <tr>\n",
       "      <th>6124</th>\n",
       "      <td>2018-12-31 15:15:00</td>\n",
       "      <td>BANKNIFTY</td>\n",
       "      <td>27165.40</td>\n",
       "      <td>27181.00</td>\n",
       "      <td>27147.10</td>\n",
       "      <td>27159.75</td>\n",
       "    </tr>\n",
       "  </tbody>\n",
       "</table>\n",
       "<p>6125 rows × 6 columns</p>\n",
       "</div>"
      ],
      "text/plain": [
       "                DATE_TIME      SCRIP      OPEN      HIGH       LOW     CLOSE\n",
       "0     2018-01-01 09:15:00  BANKNIFTY  25566.45  25588.00  25496.55  25551.70\n",
       "1     2018-01-01 09:30:00  BANKNIFTY  25552.75  25573.95  25538.85  25551.50\n",
       "2     2018-01-01 09:45:00  BANKNIFTY  25551.70  25555.30  25537.15  25546.90\n",
       "3     2018-01-01 10:00:00  BANKNIFTY  25542.90  25574.25  25537.90  25561.50\n",
       "4     2018-01-01 10:15:00  BANKNIFTY  25563.65  25573.25  25556.20  25561.20\n",
       "...                   ...        ...       ...       ...       ...       ...\n",
       "6120  2018-12-31 14:15:00  BANKNIFTY  27168.00  27197.40  27161.20  27175.15\n",
       "6121  2018-12-31 14:30:00  BANKNIFTY  27175.10  27196.85  27163.15  27169.30\n",
       "6122  2018-12-31 14:45:00  BANKNIFTY  27167.45  27186.70  27159.85  27172.30\n",
       "6123  2018-12-31 15:00:00  BANKNIFTY  27172.50  27179.90  27141.60  27159.05\n",
       "6124  2018-12-31 15:15:00  BANKNIFTY  27165.40  27181.00  27147.10  27159.75\n",
       "\n",
       "[6125 rows x 6 columns]"
      ]
     },
     "execution_count": 3,
     "metadata": {},
     "output_type": "execute_result"
    }
   ],
   "source": [
    "data"
   ]
  },
  {
   "cell_type": "markdown",
   "metadata": {},
   "source": [
    "# 2. Strategy"
   ]
  },
  {
   "cell_type": "markdown",
   "metadata": {},
   "source": [
    "1. Sell Entry: When 2nd candle crosses high of 1st candle, sell when price crosses the low of 2nd candle \n",
    "   Stop loss: high of 2nd candle\n",
    "\n",
    "2. Buy Entry: When 2nd candle crosses low of 1st candle, buy when price crosses the high of 2nd candle \n",
    "   Stop loss: low of 2nd candle\n",
    "\n",
    "3. Target: Run till 03:15 PM"
   ]
  },
  {
   "cell_type": "markdown",
   "metadata": {},
   "source": [
    "# 3. Trade Identification"
   ]
  },
  {
   "cell_type": "code",
   "execution_count": 4,
   "metadata": {},
   "outputs": [],
   "source": [
    "df = data.copy()"
   ]
  },
  {
   "cell_type": "code",
   "execution_count": 5,
   "metadata": {},
   "outputs": [],
   "source": [
    "df.drop('SCRIP',axis=1,inplace = True)"
   ]
  },
  {
   "cell_type": "code",
   "execution_count": 6,
   "metadata": {},
   "outputs": [],
   "source": [
    "df['BUY_TRIG'] = 0\n",
    "df['BUY_SL'] = 0\n",
    "df['SELL_TRIG'] = 0\n",
    "df['SELL_SL'] = 0"
   ]
  },
  {
   "cell_type": "code",
   "execution_count": 7,
   "metadata": {},
   "outputs": [],
   "source": [
    "candle_I = df[df['DATE_TIME'].str.contains('09:15')]   #09:15 AM candle \n",
    "candle_I.reset_index(inplace = True)"
   ]
  },
  {
   "cell_type": "code",
   "execution_count": 8,
   "metadata": {},
   "outputs": [],
   "source": [
    "candle_II = df[df['DATE_TIME'].str.contains('09:30')]   #09:30 AM candle \n",
    "candle_II.reset_index(inplace = True)"
   ]
  },
  {
   "cell_type": "code",
   "execution_count": 9,
   "metadata": {},
   "outputs": [],
   "source": [
    "#Identify sell trades\n",
    "H1 = candle_I[candle_I['HIGH'] <= candle_II['HIGH']]   #When the 2nd candle breaks the high of 1st candle,\n",
    "                                                  #sell when next candles breaks low of 2nd candle with SL: high of 2nd candle"
   ]
  },
  {
   "cell_type": "code",
   "execution_count": 10,
   "metadata": {},
   "outputs": [],
   "source": [
    "H2 = candle_II[candle_I['HIGH'] <= candle_II['HIGH']]"
   ]
  },
  {
   "cell_type": "code",
   "execution_count": 11,
   "metadata": {},
   "outputs": [],
   "source": [
    "#Identify buy trades\n",
    "L1 = candle_I[candle_I['LOW'] > candle_II['LOW']]   #When 2nd candle breaks 1st candle low, \n",
    "                                                 #buy when other candles break 2nd candle high, SL: 2nd candle low"
   ]
  },
  {
   "cell_type": "code",
   "execution_count": 12,
   "metadata": {},
   "outputs": [],
   "source": [
    "L2 = candle_II[candle_I['LOW'] > candle_II['LOW']]\n"
   ]
  },
  {
   "cell_type": "markdown",
   "metadata": {},
   "source": [
    "# 4. Generating buy and sell triggers"
   ]
  },
  {
   "cell_type": "code",
   "execution_count": 13,
   "metadata": {},
   "outputs": [],
   "source": [
    "#Sell triggers\n",
    "H2['SELL_TRIG'] = H2['LOW']\n",
    "H2['SELL_SL'] = H2['HIGH']\n",
    "H2.set_index('index',inplace = True)"
   ]
  },
  {
   "cell_type": "code",
   "execution_count": 14,
   "metadata": {},
   "outputs": [],
   "source": [
    "#Buy Triggers \n",
    "L2['BUY_TRIG'] = L2['HIGH']\n",
    "L2['BUY_SL'] = L2['LOW']\n",
    "L2.set_index('index',inplace = True)"
   ]
  },
  {
   "cell_type": "markdown",
   "metadata": {},
   "source": [
    "# 5. Generating Trade signals\n",
    "    0: No trade\n",
    "    1: Buy\n",
    "    2: Already in buy\n",
    "    3: Buy Exit\n",
    "    -1: Sell\n",
    "    -2: Already in sell\n",
    "    -3: Sell Exit"
   ]
  },
  {
   "cell_type": "code",
   "execution_count": 15,
   "metadata": {},
   "outputs": [
    {
     "data": {
      "text/html": [
       "<div>\n",
       "<style scoped>\n",
       "    .dataframe tbody tr th:only-of-type {\n",
       "        vertical-align: middle;\n",
       "    }\n",
       "\n",
       "    .dataframe tbody tr th {\n",
       "        vertical-align: top;\n",
       "    }\n",
       "\n",
       "    .dataframe thead th {\n",
       "        text-align: right;\n",
       "    }\n",
       "</style>\n",
       "<table border=\"1\" class=\"dataframe\">\n",
       "  <thead>\n",
       "    <tr style=\"text-align: right;\">\n",
       "      <th></th>\n",
       "      <th>DATE_TIME</th>\n",
       "      <th>OPEN</th>\n",
       "      <th>HIGH</th>\n",
       "      <th>LOW</th>\n",
       "      <th>CLOSE</th>\n",
       "      <th>BUY_TRIG</th>\n",
       "      <th>BUY_SL</th>\n",
       "      <th>SELL_TRIG</th>\n",
       "      <th>SELL_SL</th>\n",
       "    </tr>\n",
       "    <tr>\n",
       "      <th>index</th>\n",
       "      <th></th>\n",
       "      <th></th>\n",
       "      <th></th>\n",
       "      <th></th>\n",
       "      <th></th>\n",
       "      <th></th>\n",
       "      <th></th>\n",
       "      <th></th>\n",
       "      <th></th>\n",
       "    </tr>\n",
       "  </thead>\n",
       "  <tbody>\n",
       "    <tr>\n",
       "      <th>26</th>\n",
       "      <td>2018-01-02 09:30:00</td>\n",
       "      <td>25371.25</td>\n",
       "      <td>25373.80</td>\n",
       "      <td>25281.90</td>\n",
       "      <td>25325.30</td>\n",
       "      <td>25373.80</td>\n",
       "      <td>25281.90</td>\n",
       "      <td>0.00</td>\n",
       "      <td>0.00</td>\n",
       "    </tr>\n",
       "    <tr>\n",
       "      <th>51</th>\n",
       "      <td>2018-01-03 09:30:00</td>\n",
       "      <td>25408.15</td>\n",
       "      <td>25412.65</td>\n",
       "      <td>25382.25</td>\n",
       "      <td>25387.40</td>\n",
       "      <td>25412.65</td>\n",
       "      <td>25382.25</td>\n",
       "      <td>0.00</td>\n",
       "      <td>0.00</td>\n",
       "    </tr>\n",
       "    <tr>\n",
       "      <th>126</th>\n",
       "      <td>2018-01-08 09:30:00</td>\n",
       "      <td>25714.45</td>\n",
       "      <td>25757.85</td>\n",
       "      <td>25686.30</td>\n",
       "      <td>25749.50</td>\n",
       "      <td>25757.85</td>\n",
       "      <td>25686.30</td>\n",
       "      <td>0.00</td>\n",
       "      <td>0.00</td>\n",
       "    </tr>\n",
       "    <tr>\n",
       "      <th>176</th>\n",
       "      <td>2018-01-10 09:30:00</td>\n",
       "      <td>25669.90</td>\n",
       "      <td>25669.90</td>\n",
       "      <td>25626.65</td>\n",
       "      <td>25647.80</td>\n",
       "      <td>25669.90</td>\n",
       "      <td>25626.65</td>\n",
       "      <td>0.00</td>\n",
       "      <td>0.00</td>\n",
       "    </tr>\n",
       "    <tr>\n",
       "      <th>201</th>\n",
       "      <td>2018-01-11 09:30:00</td>\n",
       "      <td>25552.30</td>\n",
       "      <td>25567.45</td>\n",
       "      <td>25532.25</td>\n",
       "      <td>25542.40</td>\n",
       "      <td>25567.45</td>\n",
       "      <td>25532.25</td>\n",
       "      <td>0.00</td>\n",
       "      <td>0.00</td>\n",
       "    </tr>\n",
       "    <tr>\n",
       "      <th>...</th>\n",
       "      <td>...</td>\n",
       "      <td>...</td>\n",
       "      <td>...</td>\n",
       "      <td>...</td>\n",
       "      <td>...</td>\n",
       "      <td>...</td>\n",
       "      <td>...</td>\n",
       "      <td>...</td>\n",
       "      <td>...</td>\n",
       "    </tr>\n",
       "    <tr>\n",
       "      <th>5801</th>\n",
       "      <td>2018-12-12 09:30:00</td>\n",
       "      <td>26380.70</td>\n",
       "      <td>26468.20</td>\n",
       "      <td>26374.40</td>\n",
       "      <td>26443.60</td>\n",
       "      <td>0.00</td>\n",
       "      <td>0.00</td>\n",
       "      <td>26374.40</td>\n",
       "      <td>26468.20</td>\n",
       "    </tr>\n",
       "    <tr>\n",
       "      <th>5851</th>\n",
       "      <td>2018-12-14 09:30:00</td>\n",
       "      <td>26777.80</td>\n",
       "      <td>26874.35</td>\n",
       "      <td>26769.75</td>\n",
       "      <td>26849.05</td>\n",
       "      <td>0.00</td>\n",
       "      <td>0.00</td>\n",
       "      <td>26769.75</td>\n",
       "      <td>26874.35</td>\n",
       "    </tr>\n",
       "    <tr>\n",
       "      <th>5951</th>\n",
       "      <td>2018-12-20 09:30:00</td>\n",
       "      <td>27198.25</td>\n",
       "      <td>27219.10</td>\n",
       "      <td>27186.40</td>\n",
       "      <td>27215.10</td>\n",
       "      <td>0.00</td>\n",
       "      <td>0.00</td>\n",
       "      <td>27186.40</td>\n",
       "      <td>27219.10</td>\n",
       "    </tr>\n",
       "    <tr>\n",
       "      <th>5976</th>\n",
       "      <td>2018-12-21 09:30:00</td>\n",
       "      <td>27346.60</td>\n",
       "      <td>27369.10</td>\n",
       "      <td>27307.25</td>\n",
       "      <td>27318.20</td>\n",
       "      <td>0.00</td>\n",
       "      <td>0.00</td>\n",
       "      <td>27307.25</td>\n",
       "      <td>27369.10</td>\n",
       "    </tr>\n",
       "    <tr>\n",
       "      <th>6076</th>\n",
       "      <td>2018-12-28 09:30:00</td>\n",
       "      <td>27103.00</td>\n",
       "      <td>27178.30</td>\n",
       "      <td>27100.95</td>\n",
       "      <td>27171.50</td>\n",
       "      <td>0.00</td>\n",
       "      <td>0.00</td>\n",
       "      <td>27100.95</td>\n",
       "      <td>27178.30</td>\n",
       "    </tr>\n",
       "  </tbody>\n",
       "</table>\n",
       "<p>159 rows × 9 columns</p>\n",
       "</div>"
      ],
      "text/plain": [
       "                 DATE_TIME      OPEN      HIGH       LOW     CLOSE  BUY_TRIG  \\\n",
       "index                                                                          \n",
       "26     2018-01-02 09:30:00  25371.25  25373.80  25281.90  25325.30  25373.80   \n",
       "51     2018-01-03 09:30:00  25408.15  25412.65  25382.25  25387.40  25412.65   \n",
       "126    2018-01-08 09:30:00  25714.45  25757.85  25686.30  25749.50  25757.85   \n",
       "176    2018-01-10 09:30:00  25669.90  25669.90  25626.65  25647.80  25669.90   \n",
       "201    2018-01-11 09:30:00  25552.30  25567.45  25532.25  25542.40  25567.45   \n",
       "...                    ...       ...       ...       ...       ...       ...   \n",
       "5801   2018-12-12 09:30:00  26380.70  26468.20  26374.40  26443.60      0.00   \n",
       "5851   2018-12-14 09:30:00  26777.80  26874.35  26769.75  26849.05      0.00   \n",
       "5951   2018-12-20 09:30:00  27198.25  27219.10  27186.40  27215.10      0.00   \n",
       "5976   2018-12-21 09:30:00  27346.60  27369.10  27307.25  27318.20      0.00   \n",
       "6076   2018-12-28 09:30:00  27103.00  27178.30  27100.95  27171.50      0.00   \n",
       "\n",
       "         BUY_SL  SELL_TRIG   SELL_SL  \n",
       "index                                 \n",
       "26     25281.90       0.00      0.00  \n",
       "51     25382.25       0.00      0.00  \n",
       "126    25686.30       0.00      0.00  \n",
       "176    25626.65       0.00      0.00  \n",
       "201    25532.25       0.00      0.00  \n",
       "...         ...        ...       ...  \n",
       "5801       0.00   26374.40  26468.20  \n",
       "5851       0.00   26769.75  26874.35  \n",
       "5951       0.00   27186.40  27219.10  \n",
       "5976       0.00   27307.25  27369.10  \n",
       "6076       0.00   27100.95  27178.30  \n",
       "\n",
       "[159 rows x 9 columns]"
      ]
     },
     "execution_count": 15,
     "metadata": {},
     "output_type": "execute_result"
    }
   ],
   "source": [
    "signal = pd.concat([L2,H2])\n",
    "signal"
   ]
  },
  {
   "cell_type": "code",
   "execution_count": 17,
   "metadata": {},
   "outputs": [],
   "source": [
    "if signal.index.duplicated().sum() !=0:   #drop duplicates due to lower timeframe\n",
    "    signal.drop_duplicates(subset = 'DATE_TIME',keep ='first',inplace = True)"
   ]
  },
  {
   "cell_type": "code",
   "execution_count": 19,
   "metadata": {},
   "outputs": [],
   "source": [
    "df[['BUY_TRIG','BUY_SL','SELL_TRIG','SELL_SL']] = signal[['BUY_TRIG','BUY_SL','SELL_TRIG','SELL_SL']]   #merge it with main df"
   ]
  },
  {
   "cell_type": "code",
   "execution_count": 20,
   "metadata": {},
   "outputs": [
    {
     "data": {
      "text/html": [
       "<div>\n",
       "<style scoped>\n",
       "    .dataframe tbody tr th:only-of-type {\n",
       "        vertical-align: middle;\n",
       "    }\n",
       "\n",
       "    .dataframe tbody tr th {\n",
       "        vertical-align: top;\n",
       "    }\n",
       "\n",
       "    .dataframe thead th {\n",
       "        text-align: right;\n",
       "    }\n",
       "</style>\n",
       "<table border=\"1\" class=\"dataframe\">\n",
       "  <thead>\n",
       "    <tr style=\"text-align: right;\">\n",
       "      <th></th>\n",
       "      <th>DATE_TIME</th>\n",
       "      <th>OPEN</th>\n",
       "      <th>HIGH</th>\n",
       "      <th>LOW</th>\n",
       "      <th>CLOSE</th>\n",
       "      <th>BUY_TRIG</th>\n",
       "      <th>BUY_SL</th>\n",
       "      <th>SELL_TRIG</th>\n",
       "      <th>SELL_SL</th>\n",
       "    </tr>\n",
       "  </thead>\n",
       "  <tbody>\n",
       "    <tr>\n",
       "      <th>0</th>\n",
       "      <td>2018-01-01 09:15:00</td>\n",
       "      <td>25566.45</td>\n",
       "      <td>25588.00</td>\n",
       "      <td>25496.55</td>\n",
       "      <td>25551.70</td>\n",
       "      <td>NaN</td>\n",
       "      <td>NaN</td>\n",
       "      <td>NaN</td>\n",
       "      <td>NaN</td>\n",
       "    </tr>\n",
       "    <tr>\n",
       "      <th>1</th>\n",
       "      <td>2018-01-01 09:30:00</td>\n",
       "      <td>25552.75</td>\n",
       "      <td>25573.95</td>\n",
       "      <td>25538.85</td>\n",
       "      <td>25551.50</td>\n",
       "      <td>NaN</td>\n",
       "      <td>NaN</td>\n",
       "      <td>NaN</td>\n",
       "      <td>NaN</td>\n",
       "    </tr>\n",
       "    <tr>\n",
       "      <th>2</th>\n",
       "      <td>2018-01-01 09:45:00</td>\n",
       "      <td>25551.70</td>\n",
       "      <td>25555.30</td>\n",
       "      <td>25537.15</td>\n",
       "      <td>25546.90</td>\n",
       "      <td>NaN</td>\n",
       "      <td>NaN</td>\n",
       "      <td>NaN</td>\n",
       "      <td>NaN</td>\n",
       "    </tr>\n",
       "    <tr>\n",
       "      <th>3</th>\n",
       "      <td>2018-01-01 10:00:00</td>\n",
       "      <td>25542.90</td>\n",
       "      <td>25574.25</td>\n",
       "      <td>25537.90</td>\n",
       "      <td>25561.50</td>\n",
       "      <td>NaN</td>\n",
       "      <td>NaN</td>\n",
       "      <td>NaN</td>\n",
       "      <td>NaN</td>\n",
       "    </tr>\n",
       "    <tr>\n",
       "      <th>4</th>\n",
       "      <td>2018-01-01 10:15:00</td>\n",
       "      <td>25563.65</td>\n",
       "      <td>25573.25</td>\n",
       "      <td>25556.20</td>\n",
       "      <td>25561.20</td>\n",
       "      <td>NaN</td>\n",
       "      <td>NaN</td>\n",
       "      <td>NaN</td>\n",
       "      <td>NaN</td>\n",
       "    </tr>\n",
       "    <tr>\n",
       "      <th>...</th>\n",
       "      <td>...</td>\n",
       "      <td>...</td>\n",
       "      <td>...</td>\n",
       "      <td>...</td>\n",
       "      <td>...</td>\n",
       "      <td>...</td>\n",
       "      <td>...</td>\n",
       "      <td>...</td>\n",
       "      <td>...</td>\n",
       "    </tr>\n",
       "    <tr>\n",
       "      <th>6120</th>\n",
       "      <td>2018-12-31 14:15:00</td>\n",
       "      <td>27168.00</td>\n",
       "      <td>27197.40</td>\n",
       "      <td>27161.20</td>\n",
       "      <td>27175.15</td>\n",
       "      <td>NaN</td>\n",
       "      <td>NaN</td>\n",
       "      <td>NaN</td>\n",
       "      <td>NaN</td>\n",
       "    </tr>\n",
       "    <tr>\n",
       "      <th>6121</th>\n",
       "      <td>2018-12-31 14:30:00</td>\n",
       "      <td>27175.10</td>\n",
       "      <td>27196.85</td>\n",
       "      <td>27163.15</td>\n",
       "      <td>27169.30</td>\n",
       "      <td>NaN</td>\n",
       "      <td>NaN</td>\n",
       "      <td>NaN</td>\n",
       "      <td>NaN</td>\n",
       "    </tr>\n",
       "    <tr>\n",
       "      <th>6122</th>\n",
       "      <td>2018-12-31 14:45:00</td>\n",
       "      <td>27167.45</td>\n",
       "      <td>27186.70</td>\n",
       "      <td>27159.85</td>\n",
       "      <td>27172.30</td>\n",
       "      <td>NaN</td>\n",
       "      <td>NaN</td>\n",
       "      <td>NaN</td>\n",
       "      <td>NaN</td>\n",
       "    </tr>\n",
       "    <tr>\n",
       "      <th>6123</th>\n",
       "      <td>2018-12-31 15:00:00</td>\n",
       "      <td>27172.50</td>\n",
       "      <td>27179.90</td>\n",
       "      <td>27141.60</td>\n",
       "      <td>27159.05</td>\n",
       "      <td>NaN</td>\n",
       "      <td>NaN</td>\n",
       "      <td>NaN</td>\n",
       "      <td>NaN</td>\n",
       "    </tr>\n",
       "    <tr>\n",
       "      <th>6124</th>\n",
       "      <td>2018-12-31 15:15:00</td>\n",
       "      <td>27165.40</td>\n",
       "      <td>27181.00</td>\n",
       "      <td>27147.10</td>\n",
       "      <td>27159.75</td>\n",
       "      <td>NaN</td>\n",
       "      <td>NaN</td>\n",
       "      <td>NaN</td>\n",
       "      <td>NaN</td>\n",
       "    </tr>\n",
       "  </tbody>\n",
       "</table>\n",
       "<p>6125 rows × 9 columns</p>\n",
       "</div>"
      ],
      "text/plain": [
       "                DATE_TIME      OPEN      HIGH       LOW     CLOSE  BUY_TRIG  \\\n",
       "0     2018-01-01 09:15:00  25566.45  25588.00  25496.55  25551.70       NaN   \n",
       "1     2018-01-01 09:30:00  25552.75  25573.95  25538.85  25551.50       NaN   \n",
       "2     2018-01-01 09:45:00  25551.70  25555.30  25537.15  25546.90       NaN   \n",
       "3     2018-01-01 10:00:00  25542.90  25574.25  25537.90  25561.50       NaN   \n",
       "4     2018-01-01 10:15:00  25563.65  25573.25  25556.20  25561.20       NaN   \n",
       "...                   ...       ...       ...       ...       ...       ...   \n",
       "6120  2018-12-31 14:15:00  27168.00  27197.40  27161.20  27175.15       NaN   \n",
       "6121  2018-12-31 14:30:00  27175.10  27196.85  27163.15  27169.30       NaN   \n",
       "6122  2018-12-31 14:45:00  27167.45  27186.70  27159.85  27172.30       NaN   \n",
       "6123  2018-12-31 15:00:00  27172.50  27179.90  27141.60  27159.05       NaN   \n",
       "6124  2018-12-31 15:15:00  27165.40  27181.00  27147.10  27159.75       NaN   \n",
       "\n",
       "      BUY_SL  SELL_TRIG  SELL_SL  \n",
       "0        NaN        NaN      NaN  \n",
       "1        NaN        NaN      NaN  \n",
       "2        NaN        NaN      NaN  \n",
       "3        NaN        NaN      NaN  \n",
       "4        NaN        NaN      NaN  \n",
       "...      ...        ...      ...  \n",
       "6120     NaN        NaN      NaN  \n",
       "6121     NaN        NaN      NaN  \n",
       "6122     NaN        NaN      NaN  \n",
       "6123     NaN        NaN      NaN  \n",
       "6124     NaN        NaN      NaN  \n",
       "\n",
       "[6125 rows x 9 columns]"
      ]
     },
     "execution_count": 20,
     "metadata": {},
     "output_type": "execute_result"
    }
   ],
   "source": [
    "df"
   ]
  },
  {
   "cell_type": "code",
   "execution_count": 21,
   "metadata": {},
   "outputs": [],
   "source": [
    "df.fillna(0,inplace = True)"
   ]
  },
  {
   "cell_type": "code",
   "execution_count": 22,
   "metadata": {},
   "outputs": [],
   "source": [
    "#For filling buy trigger and buy SL\n",
    "for i in range(0,df.shape[0],25):\n",
    "    buy_trig = df[df['DATE_TIME'].str.contains('09:30')]['BUY_TRIG'][i+1]\n",
    "    buy_sl = df[df['DATE_TIME'].str.contains('09:30')]['BUY_SL'][i+1]\n",
    "    if buy_trig != 0:\n",
    "        df['BUY_TRIG'][i+1:i+25] = buy_trig\n",
    "        df['BUY_SL'][i+1:i+25] = buy_sl"
   ]
  },
  {
   "cell_type": "code",
   "execution_count": 23,
   "metadata": {},
   "outputs": [],
   "source": [
    "#For filling sell trigger and sell SL\n",
    "for i in range(0,df.shape[0],25):\n",
    "    sell_trig = df[df['DATE_TIME'].str.contains('09:30')]['SELL_TRIG'][i+1]\n",
    "    sell_sl = df[df['DATE_TIME'].str.contains('09:30')]['SELL_SL'][i+1]\n",
    "    if buy_trig != 0:\n",
    "        df['SELL_TRIG'][i+1:i+25] = sell_trig\n",
    "        df['SELL_SL'][i+1:i+25] = sell_sl"
   ]
  },
  {
   "cell_type": "code",
   "execution_count": 24,
   "metadata": {},
   "outputs": [],
   "source": [
    "df['ENTRY_SIG'] = 0\n",
    "df['EXIT_SIG'] = 0"
   ]
  },
  {
   "cell_type": "code",
   "execution_count": 25,
   "metadata": {
    "scrolled": true
   },
   "outputs": [],
   "source": [
    "#Entry Signal\n",
    "\n",
    "for i in range(1,df.shape[0]):\n",
    "    \n",
    "    if df['BUY_TRIG'][i] != 0:\n",
    "\n",
    "        if df['ENTRY_SIG'][i-1] != 0:\n",
    "            df['ENTRY_SIG'][i] = df['ENTRY_SIG'][i-1] \n",
    "    \n",
    "            if (df['HIGH'][i] > df['BUY_TRIG'][i]) & (df['ENTRY_SIG'][i-1] == 1):\n",
    "                df['ENTRY_SIG'][i] = 2\n",
    "            \n",
    "            if (df['CLOSE'][i] < df['BUY_SL'][i]) & (df['ENTRY_SIG'][i-1] == 2): \n",
    "                df['ENTRY_SIG'][i] = 1\n",
    "        else:\n",
    "            df['ENTRY_SIG'][i] = 1\n",
    "\n",
    "            \n",
    "    elif df['SELL_TRIG'][i] != 0:\n",
    "        \n",
    "        if df['ENTRY_SIG'][i-1] != 0:\n",
    "            df['ENTRY_SIG'][i] = df['ENTRY_SIG'][i-1] \n",
    "                \n",
    "            if (df['LOW'][i] < df['SELL_TRIG'][i]) & (df['ENTRY_SIG'][i-1] == -1):\n",
    "                df['ENTRY_SIG'][i] = -2\n",
    "\n",
    "            if (df['CLOSE'][i] > df['SELL_SL'][i]) & (df['ENTRY_SIG'][i-1] == -2): \n",
    "                df['ENTRY_SIG'][i] = -1\n",
    "        else:\n",
    "            df['ENTRY_SIG'][i] = -1\n",
    "\n",
    "            \n",
    "    else:\n",
    "        df['ENTRY_SIG'][i] = 0"
   ]
  },
  {
   "cell_type": "code",
   "execution_count": 26,
   "metadata": {},
   "outputs": [],
   "source": [
    "df['EXIT_SIG'] = 0"
   ]
  },
  {
   "cell_type": "code",
   "execution_count": 27,
   "metadata": {},
   "outputs": [],
   "source": [
    "#Exit signal\n",
    "for i in range(1,df.shape[0]):\n",
    "    \n",
    "    df['EXIT_SIG'][i] = 0\n",
    "        \n",
    "    if df['ENTRY_SIG'][i] > 0:  #For buy position exit\n",
    "        if df['ENTRY_SIG'][i] < df['ENTRY_SIG'][i-1]:\n",
    "            df['EXIT_SIG'][i] = 3   #Exit buy\n",
    "        if df['DATE_TIME'][i].find('15:15') > 0:\n",
    "            if df['ENTRY_SIG'][i] == 2:\n",
    "                df['EXIT_SIG'][i] = 3   #Exit buy at 15:15  \n",
    "        \n",
    "    if df['ENTRY_SIG'][i] < 0:  #For sell position exit\n",
    "        if df['ENTRY_SIG'][i] > df['ENTRY_SIG'][i-1]:\n",
    "             df['EXIT_SIG'][i] = -3   #Exit sell\n",
    "        if df['DATE_TIME'][i].find('15:15') > 0:\n",
    "            if df['ENTRY_SIG'][i] == -2:\n",
    "                df['EXIT_SIG'][i] = -3   #Exit sell at 15:15      "
   ]
  },
  {
   "cell_type": "code",
   "execution_count": 28,
   "metadata": {},
   "outputs": [],
   "source": [
    "df['ENTRY_PRICE'] = 0"
   ]
  },
  {
   "cell_type": "code",
   "execution_count": 29,
   "metadata": {},
   "outputs": [],
   "source": [
    "#Entry Price\n",
    "for i in range(1,df.shape[0]):\n",
    "    \n",
    "    df['ENTRY_PRICE'][i] = 0\n",
    "    \n",
    "    if (df['ENTRY_SIG'][i] > 0) & (df['ENTRY_SIG'][i-1] > 0):  #For buy position \n",
    "        if df['ENTRY_SIG'][i] > df['ENTRY_SIG'][i-1]:\n",
    "            df['ENTRY_PRICE'][i] = -df['CLOSE'][i]    #Negative price for buy position\n",
    "\n",
    "\n",
    "    if (df['ENTRY_SIG'][i] < 0) & (df['ENTRY_SIG'][i-1] < 0): #For sell position\n",
    "        if df['ENTRY_SIG'][i] < df['ENTRY_SIG'][i-1]:\n",
    "            df['ENTRY_PRICE'][i] = df['CLOSE'][i]     #Positive price for sell position\n"
   ]
  },
  {
   "cell_type": "code",
   "execution_count": 30,
   "metadata": {},
   "outputs": [],
   "source": [
    "df['EXIT_PRICE'] = 0"
   ]
  },
  {
   "cell_type": "code",
   "execution_count": 31,
   "metadata": {},
   "outputs": [],
   "source": [
    "#Exit Price\n",
    "for i in range(1,df.shape[0]):\n",
    "    \n",
    "    df['EXIT_PRICE'][i] = 0\n",
    "    \n",
    "    if df['EXIT_SIG'][i] == 3:  #buy Exit\n",
    "        df['EXIT_PRICE'][i] = df['CLOSE'][i]\n",
    "    \n",
    "    if df['EXIT_SIG'][i] == -3:  #buy Exit\n",
    "        df['EXIT_PRICE'][i] = -df['CLOSE'][i]"
   ]
  },
  {
   "cell_type": "code",
   "execution_count": 32,
   "metadata": {},
   "outputs": [],
   "source": [
    "#Trade Price \n",
    "df['TRADE'] = df['ENTRY_PRICE'] + df['EXIT_PRICE'] "
   ]
  },
  {
   "cell_type": "code",
   "execution_count": 68,
   "metadata": {},
   "outputs": [],
   "source": [
    "df['PNL'] = 0"
   ]
  },
  {
   "cell_type": "code",
   "execution_count": 69,
   "metadata": {},
   "outputs": [],
   "source": [
    "#PNL\n",
    "for i in range(25,df.shape[0]+1,25):\n",
    "    \n",
    "    df['PNL'][i-1] = df['TRADE'][i-25:i].sum()"
   ]
  },
  {
   "cell_type": "markdown",
   "metadata": {},
   "source": [
    "# 6. Backtest Result Calculation"
   ]
  },
  {
   "cell_type": "code",
   "execution_count": 70,
   "metadata": {},
   "outputs": [],
   "source": [
    "result = df.copy()"
   ]
  },
  {
   "cell_type": "code",
   "execution_count": 71,
   "metadata": {
    "scrolled": true
   },
   "outputs": [],
   "source": [
    "daily_PNL = result[result['DATE_TIME'].str.contains('15:15')][['DATE_TIME','PNL']]\n",
    "daily_PNL.reset_index(drop = True,inplace = True)"
   ]
  },
  {
   "cell_type": "code",
   "execution_count": 72,
   "metadata": {},
   "outputs": [
    {
     "data": {
      "text/plain": [
       "121"
      ]
     },
     "execution_count": 72,
     "metadata": {},
     "output_type": "execute_result"
    }
   ],
   "source": [
    "total_trade_days = (daily_PNL['PNL'] != 0).sum()\n",
    "total_trade_days"
   ]
  },
  {
   "cell_type": "code",
   "execution_count": 73,
   "metadata": {},
   "outputs": [],
   "source": [
    "daily_dd = daily_PNL[daily_PNL['PNL'] != 0]\n",
    "daily_dd.reset_index(drop = True,inplace = True)"
   ]
  },
  {
   "cell_type": "code",
   "execution_count": 74,
   "metadata": {},
   "outputs": [],
   "source": [
    "daily_dd['dd'] = 0"
   ]
  },
  {
   "cell_type": "code",
   "execution_count": 75,
   "metadata": {},
   "outputs": [],
   "source": [
    "for i in range(1,daily_dd.shape[0]):\n",
    "    if daily_dd['PNL'][i] + daily_dd['dd'][i-1] > 0:\n",
    "        daily_dd['dd'][i] = 0\n",
    "    else:\n",
    "        daily_dd['dd'][i] = daily_dd['PNL'][i] + daily_dd['dd'][i-1]"
   ]
  },
  {
   "cell_type": "code",
   "execution_count": 76,
   "metadata": {},
   "outputs": [],
   "source": [
    "cum_PNL = pd.DataFrame(daily_PNL['PNL'].cumsum())\n",
    "cum_PNL.reset_index(drop = True,inplace = True)"
   ]
  },
  {
   "cell_type": "markdown",
   "metadata": {},
   "source": [
    "# 7. Plot the cumulative PNL and drawdown"
   ]
  },
  {
   "cell_type": "code",
   "execution_count": 77,
   "metadata": {},
   "outputs": [
    {
     "data": {
      "text/plain": [
       "<matplotlib.axes._subplots.AxesSubplot at 0x1014ae90>"
      ]
     },
     "execution_count": 77,
     "metadata": {},
     "output_type": "execute_result"
    },
    {
     "data": {
      "image/png": "[encoded data removed]",
      "text/plain": [
       "<Figure size 1440x720 with 1 Axes>"
      ]
     },
     "metadata": {
      "needs_background": "light"
     },
     "output_type": "display_data"
    }
   ],
   "source": [
    "plt.rcParams[\"figure.figsize\"] = (20,10)\n",
    "cum_PNL.plot()"
   ]
  },
  {
   "cell_type": "code",
   "execution_count": 78,
   "metadata": {},
   "outputs": [
    {
     "data": {
      "text/plain": [
       "<matplotlib.axes._subplots.AxesSubplot at 0xfd54e70>"
      ]
     },
     "execution_count": 78,
     "metadata": {},
     "output_type": "execute_result"
    },
    {
     "data": {
      "image/png": "[encoded data removed]",
      "text/plain": [
       "<Figure size 1440x720 with 1 Axes>"
      ]
     },
     "metadata": {
      "needs_background": "light"
     },
     "output_type": "display_data"
    }
   ],
   "source": [
    "plt.rcParams[\"figure.figsize\"] = (20,10)\n",
    "daily_dd['dd'].plot()"
   ]
  },
  {
   "cell_type": "markdown",
   "metadata": {},
   "source": [
    "# 8. General Strategy Stats"
   ]
  },
  {
   "cell_type": "code",
   "execution_count": 79,
   "metadata": {},
   "outputs": [
    {
     "data": {
      "text/plain": [
       "18.5"
      ]
     },
     "execution_count": 79,
     "metadata": {},
     "output_type": "execute_result"
    }
   ],
   "source": [
    "avg_theoritical_points_per_trade = round((cum_PNL.iloc[-1]/total_trade_days)[0],2)\n",
    "avg_theoritical_points_per_trade"
   ]
  },
  {
   "cell_type": "code",
   "execution_count": 80,
   "metadata": {},
   "outputs": [
    {
     "data": {
      "text/plain": [
       "6.5"
      ]
     },
     "execution_count": 80,
     "metadata": {},
     "output_type": "execute_result"
    }
   ],
   "source": [
    "avg_practical_points_per_trade = round((avg_theoritical_points_per_trade - 8 - 4),2)  #Subtract slippages and brokerage\n",
    "avg_practical_points_per_trade"
   ]
  },
  {
   "cell_type": "code",
   "execution_count": 81,
   "metadata": {},
   "outputs": [
    {
     "data": {
      "text/plain": [
       "786.5"
      ]
     },
     "execution_count": 81,
     "metadata": {},
     "output_type": "execute_result"
    }
   ],
   "source": [
    "total_points_per_year = round(avg_practical_points_per_trade*total_trade_days,2)\n",
    "total_points_per_year "
   ]
  },
  {
   "cell_type": "code",
   "execution_count": 82,
   "metadata": {},
   "outputs": [
    {
     "data": {
      "text/plain": [
       "519"
      ]
     },
     "execution_count": 82,
     "metadata": {},
     "output_type": "execute_result"
    }
   ],
   "source": [
    "max_profit_per_trade = daily_PNL['PNL'].max()\n",
    "max_profit_per_trade "
   ]
  },
  {
   "cell_type": "code",
   "execution_count": 83,
   "metadata": {},
   "outputs": [
    {
     "data": {
      "text/plain": [
       "-191"
      ]
     },
     "execution_count": 83,
     "metadata": {},
     "output_type": "execute_result"
    }
   ],
   "source": [
    "max_loss_per_trade = daily_PNL['PNL'].min()\n",
    "max_loss_per_trade "
   ]
  },
  {
   "cell_type": "code",
   "execution_count": 84,
   "metadata": {},
   "outputs": [
    {
     "data": {
      "text/plain": [
       "49"
      ]
     },
     "execution_count": 84,
     "metadata": {},
     "output_type": "execute_result"
    }
   ],
   "source": [
    "positive_trades = (daily_PNL['PNL'] > 0).sum()\n",
    "positive_trades"
   ]
  },
  {
   "cell_type": "code",
   "execution_count": 85,
   "metadata": {
    "scrolled": true
   },
   "outputs": [
    {
     "data": {
      "text/plain": [
       "72"
      ]
     },
     "execution_count": 85,
     "metadata": {},
     "output_type": "execute_result"
    }
   ],
   "source": [
    "negative_trades = (daily_PNL['PNL'] < 0).sum()\n",
    "negative_trades"
   ]
  },
  {
   "cell_type": "code",
   "execution_count": 86,
   "metadata": {},
   "outputs": [
    {
     "data": {
      "text/plain": [
       "124"
      ]
     },
     "execution_count": 86,
     "metadata": {},
     "output_type": "execute_result"
    }
   ],
   "source": [
    "zero_trades = (daily_PNL['PNL'] == 0).sum()\n",
    "zero_trades"
   ]
  },
  {
   "cell_type": "code",
   "execution_count": 87,
   "metadata": {},
   "outputs": [
    {
     "data": {
      "text/plain": [
       "0.4049586776859504"
      ]
     },
     "execution_count": 87,
     "metadata": {},
     "output_type": "execute_result"
    }
   ],
   "source": [
    "win_ratio = (positive_trades)/(positive_trades + negative_trades)\n",
    "win_ratio"
   ]
  },
  {
   "cell_type": "code",
   "execution_count": 88,
   "metadata": {},
   "outputs": [
    {
     "data": {
      "text/plain": [
       "634"
      ]
     },
     "execution_count": 88,
     "metadata": {},
     "output_type": "execute_result"
    }
   ],
   "source": [
    "max_drawdown = abs(daily_dd['dd'].min())\n",
    "max_drawdown"
   ]
  },
  {
   "cell_type": "code",
   "execution_count": 89,
   "metadata": {},
   "outputs": [
    {
     "data": {
      "text/plain": [
       "12680"
      ]
     },
     "execution_count": 89,
     "metadata": {},
     "output_type": "execute_result"
    }
   ],
   "source": [
    "max_loss = max_drawdown*20\n",
    "max_loss"
   ]
  },
  {
   "cell_type": "code",
   "execution_count": 90,
   "metadata": {},
   "outputs": [],
   "source": [
    "margin =  30000"
   ]
  },
  {
   "cell_type": "code",
   "execution_count": 91,
   "metadata": {},
   "outputs": [
    {
     "data": {
      "text/plain": [
       "42680"
      ]
     },
     "execution_count": 91,
     "metadata": {},
     "output_type": "execute_result"
    }
   ],
   "source": [
    "trading_capital_per_lot = margin + max_loss\n",
    "trading_capital_per_lot"
   ]
  },
  {
   "cell_type": "code",
   "execution_count": 92,
   "metadata": {},
   "outputs": [
    {
     "data": {
      "text/plain": [
       "36.86"
      ]
     },
     "execution_count": 92,
     "metadata": {},
     "output_type": "execute_result"
    }
   ],
   "source": [
    "ROI = round((total_points_per_year*20)*100/trading_capital_per_lot, 2)\n",
    "ROI"
   ]
  },
  {
   "cell_type": "code",
   "execution_count": 93,
   "metadata": {},
   "outputs": [
    {
     "data": {
      "text/plain": [
       "29.71"
      ]
     },
     "execution_count": 93,
     "metadata": {},
     "output_type": "execute_result"
    }
   ],
   "source": [
    "loss_percent = round((max_loss)*100/trading_capital_per_lot, 2)\n",
    "loss_percent"
   ]
  },
  {
   "cell_type": "code",
   "execution_count": 94,
   "metadata": {},
   "outputs": [
    {
     "data": {
      "text/plain": [
       "1.24"
      ]
     },
     "execution_count": 94,
     "metadata": {},
     "output_type": "execute_result"
    }
   ],
   "source": [
    "calmar_ratio = round((ROI/loss_percent),2)\n",
    "calmar_ratio"
   ]
  },
  {
   "cell_type": "code",
   "execution_count": 95,
   "metadata": {},
   "outputs": [],
   "source": [
    "result['capital'] = 0\n",
    "result['capital'][0] = trading_capital_per_lot"
   ]
  },
  {
   "cell_type": "code",
   "execution_count": 96,
   "metadata": {},
   "outputs": [],
   "source": [
    "for i in range(1,result.shape[0]):\n",
    "    if result['PNL'][i] != 0:\n",
    "        result['capital'][i] = result['capital'][i-1] + (result['PNL'][i]-10)*20\n",
    "    else:\n",
    "        result['capital'][i] = result['capital'][i-1]"
   ]
  },
  {
   "cell_type": "code",
   "execution_count": 97,
   "metadata": {},
   "outputs": [
    {
     "data": {
      "text/plain": [
       "<matplotlib.axes._subplots.AxesSubplot at 0xfd40950>"
      ]
     },
     "execution_count": 97,
     "metadata": {},
     "output_type": "execute_result"
    },
    {
     "data": {
      "image/png": "[encoded data removed]",
      "text/plain": [
       "<Figure size 1440x720 with 1 Axes>"
      ]
     },
     "metadata": {
      "needs_background": "light"
     },
     "output_type": "display_data"
    }
   ],
   "source": [
    "plt.rcParams[\"figure.figsize\"] = (20,10)\n",
    "result['capital'].plot()"
   ]
  },
  {
   "cell_type": "code",
   "execution_count": 98,
   "metadata": {},
   "outputs": [],
   "source": [
    "KPI = {'avg_theoritical_points_per_trade':avg_theoritical_points_per_trade,'avg_practical_points_per_trade':avg_practical_points_per_trade,'total_points_per_year':total_points_per_year,'max_profit_per_trade':max_profit_per_trade,'max_loss_per_trade':max_loss_per_trade,'positive_trades':positive_trades,'negative_trades':negative_trades,'win_ratio':win_ratio,'max_drawdown':max_drawdown,'max_loss':max_loss,'ROI':ROI,'loss_percent':loss_percent,'calmar_ratio':calmar_ratio,'trading_capital_per_lot':trading_capital_per_lot}"
   ]
  },
  {
   "cell_type": "code",
   "execution_count": 99,
   "metadata": {},
   "outputs": [],
   "source": [
    "pd.options.display.float_format = \"{:,.2f}\".format"
   ]
  },
  {
   "cell_type": "code",
   "execution_count": 100,
   "metadata": {},
   "outputs": [
    {
     "data": {
      "text/html": [
       "<div>\n",
       "<style scoped>\n",
       "    .dataframe tbody tr th:only-of-type {\n",
       "        vertical-align: middle;\n",
       "    }\n",
       "\n",
       "    .dataframe tbody tr th {\n",
       "        vertical-align: top;\n",
       "    }\n",
       "\n",
       "    .dataframe thead th {\n",
       "        text-align: right;\n",
       "    }\n",
       "</style>\n",
       "<table border=\"1\" class=\"dataframe\">\n",
       "  <thead>\n",
       "    <tr style=\"text-align: right;\">\n",
       "      <th></th>\n",
       "      <th>Values</th>\n",
       "    </tr>\n",
       "  </thead>\n",
       "  <tbody>\n",
       "    <tr>\n",
       "      <th>avg_theoritical_points_per_trade</th>\n",
       "      <td>18.50</td>\n",
       "    </tr>\n",
       "    <tr>\n",
       "      <th>avg_practical_points_per_trade</th>\n",
       "      <td>6.50</td>\n",
       "    </tr>\n",
       "    <tr>\n",
       "      <th>total_points_per_year</th>\n",
       "      <td>786.50</td>\n",
       "    </tr>\n",
       "    <tr>\n",
       "      <th>max_profit_per_trade</th>\n",
       "      <td>519.00</td>\n",
       "    </tr>\n",
       "    <tr>\n",
       "      <th>max_loss_per_trade</th>\n",
       "      <td>-191.00</td>\n",
       "    </tr>\n",
       "    <tr>\n",
       "      <th>positive_trades</th>\n",
       "      <td>49.00</td>\n",
       "    </tr>\n",
       "    <tr>\n",
       "      <th>negative_trades</th>\n",
       "      <td>72.00</td>\n",
       "    </tr>\n",
       "    <tr>\n",
       "      <th>win_ratio</th>\n",
       "      <td>0.40</td>\n",
       "    </tr>\n",
       "    <tr>\n",
       "      <th>max_drawdown</th>\n",
       "      <td>634.00</td>\n",
       "    </tr>\n",
       "    <tr>\n",
       "      <th>max_loss</th>\n",
       "      <td>12,680.00</td>\n",
       "    </tr>\n",
       "    <tr>\n",
       "      <th>ROI</th>\n",
       "      <td>36.86</td>\n",
       "    </tr>\n",
       "    <tr>\n",
       "      <th>loss_percent</th>\n",
       "      <td>29.71</td>\n",
       "    </tr>\n",
       "    <tr>\n",
       "      <th>calmar_ratio</th>\n",
       "      <td>1.24</td>\n",
       "    </tr>\n",
       "    <tr>\n",
       "      <th>trading_capital_per_lot</th>\n",
       "      <td>42,680.00</td>\n",
       "    </tr>\n",
       "  </tbody>\n",
       "</table>\n",
       "</div>"
      ],
      "text/plain": [
       "                                    Values\n",
       "avg_theoritical_points_per_trade     18.50\n",
       "avg_practical_points_per_trade        6.50\n",
       "total_points_per_year               786.50\n",
       "max_profit_per_trade                519.00\n",
       "max_loss_per_trade                 -191.00\n",
       "positive_trades                      49.00\n",
       "negative_trades                      72.00\n",
       "win_ratio                             0.40\n",
       "max_drawdown                        634.00\n",
       "max_loss                         12,680.00\n",
       "ROI                                  36.86\n",
       "loss_percent                         29.71\n",
       "calmar_ratio                          1.24\n",
       "trading_capital_per_lot          42,680.00"
      ]
     },
     "execution_count": 100,
     "metadata": {},
     "output_type": "execute_result"
    }
   ],
   "source": [
    "strategy_stats = pd.DataFrame(KPI.values(),index = KPI.keys(),columns = ['Values'])\n",
    "strategy_stats"
   ]
  },
  {
   "cell_type": "markdown",
   "metadata": {},
   "source": [
    "# 9. Save results to excel file"
   ]
  },
  {
   "cell_type": "code",
   "execution_count": 101,
   "metadata": {
    "scrolled": true
   },
   "outputs": [],
   "source": [
    "with pd.ExcelWriter('results/result_and_stats_2018_ver2.1.0_15m.xlsx') as writer:  \n",
    "    result.to_excel(writer,sheet_name = 'trades')\n",
    "    strategy_stats.to_excel(writer,sheet_name = 'stats')"
   ]
  },
  {
   "cell_type": "markdown",
   "metadata": {},
   "source": [
    "# Strategy Checks:\n",
    "\n",
    "# 1. Linear Curve\n",
    "# 2. Average points per trade\n",
    "# 3. Max DD\n",
    "# 4. ROI\n",
    "# 5. Calmar ratio"
   ]
  },
  {
   "cell_type": "markdown",
   "metadata": {},
   "source": [
    "# If all above checks are fine, then select strategy based on calmar ratio and strategies with fewer number of trades"
   ]
  }
 ],
 "metadata": {
  "kernelspec": {
   "display_name": "Python 3",
   "language": "python",
   "name": "python3"
  },
  "language_info": {
   "codemirror_mode": {
    "name": "ipython",
    "version": 3
   },
   "file_extension": ".py",
   "mimetype": "text/x-python",
   "name": "python",
   "nbconvert_exporter": "python",
   "pygments_lexer": "ipython3",
   "version": "3.7.7"
  }
 },
 "nbformat": 4,
 "nbformat_minor": 4
}
